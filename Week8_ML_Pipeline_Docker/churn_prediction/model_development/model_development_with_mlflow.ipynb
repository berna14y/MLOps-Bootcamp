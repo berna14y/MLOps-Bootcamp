{
 "cells": [
  {
   "cell_type": "code",
   "execution_count": 1,
   "id": "1395101a-86d0-4516-a404-f8a6c48b6ddc",
   "metadata": {},
   "outputs": [],
   "source": [
    "import pandas as pd\n",
    "import numpy as np\n",
    "import os\n",
    "from sklearn.model_selection import train_test_split\n",
    "from sklearn.metrics import accuracy_score, classification_report\n",
    "from urllib.parse import urlparse\n",
    "from mlflow.tracking import MlflowClient\n",
    "import mlflow.sklearn\n",
    "from mlflow.store.artifact.runs_artifact_repo import RunsArtifactRepository"
   ]
  },
  {
   "cell_type": "code",
   "execution_count": 2,
   "id": "a9c3d2ab-6c08-4332-827f-32826bde2071",
   "metadata": {},
   "outputs": [],
   "source": [
    "# Load data\n",
    "df = pd.read_csv(\"https://raw.githubusercontent.com/erkansirin78/datasets/master/Churn_Modelling.csv\")\n",
    "\n",
    "# Select features and target\n",
    "X = df.iloc[:, 3:-1]\n",
    "y = df['Exited']\n",
    "\n",
    "# Split data into train and test sets\n",
    "X_train, X_test, y_train, y_test = train_test_split(X, y, test_size=0.25, random_state=42)"
   ]
  },
  {
   "cell_type": "markdown",
   "id": "59f88177-5a23-4b45-b00b-9815f53208ba",
   "metadata": {},
   "source": [
    "# MLflow"
   ]
  },
  {
   "cell_type": "code",
   "execution_count": null,
   "id": "09c858bc-c591-4ce9-a5e0-cea8f3761494",
   "metadata": {},
   "outputs": [],
   "source": [
    "# Set MLflow tracking URI and experiment name\n",
    "os.environ['MLFLOW_TRACKING_URI'] = 'http://localhost:5001/'\n",
    "os.environ['MLFLOW_S3_ENDPOINT_URL'] = 'http://localhost:9000/'"
   ]
  },
  {
   "cell_type": "code",
   "execution_count": null,
   "id": "0fc1b0d3-f15e-4392-908d-bd2b7af0f105",
   "metadata": {},
   "outputs": [],
   "source": [
    "# Define a function to evaluate metrics\n",
    "def eval_metrics(actual, pred):\n",
    "    accuracy = accuracy_score(actual, pred)\n",
    "    clf_report = classification_report(actual, pred)\n",
    "    return accuracy, clf_report"
   ]
  },
  {
   "cell_type": "code",
   "execution_count": null,
   "id": "ef6a446a-9c94-42b3-8784-8a18f8569bdd",
   "metadata": {},
   "outputs": [],
   "source": [
    "experiment_name = \"FastAPI with MLflow\"\n",
    "mlflow.set_experiment(experiment_name)\n",
    "\n",
    "registered_model_name=\"ChurnModel\""
   ]
  },
  {
   "cell_type": "code",
   "execution_count": 6,
   "id": "7d9a1c92-c085-4ddf-b379-cab1ab513c8a",
   "metadata": {},
   "outputs": [],
   "source": [
    "number_of_trees=200"
   ]
  },
  {
   "cell_type": "code",
   "execution_count": null,
   "id": "8d4397a5-0e2f-4879-a00a-8958ce84530c",
   "metadata": {},
   "outputs": [
    {
     "name": "stdout",
     "output_type": "stream",
     "text": [
      "Random Forest model number of trees: 200\n",
      "  RMSE: 0.6987288024648354\n",
      "  MAE: 0.5835151515151545\n",
      "  R2: 0.9810832419633377\n"
     ]
    },
    {
     "name": "stderr",
     "output_type": "stream",
     "text": [
      "Registered model 'AdvertisingRFModel' already exists. Creating a new version of this model...\n",
      "2022/05/18 10:35:11 INFO mlflow.tracking._model_registry.client: Waiting up to 300 seconds for model version to finish creation.                     Model name: AdvertisingRFModel, version 3\n",
      "Created version '3' of model 'AdvertisingRFModel'.\n"
     ]
    }
   ],
   "source": [
    "# Start MLflow run\n",
    "with mlflow.start_run(run_name=\"churn-rf-sklearn\") as run:\n",
    "    # Load the best pipeline from the saved model\n",
    "    from train_churn_model import grid_search  # Import the trained model from your script\n",
    "\n",
    "    # Best estimator\n",
    "    best_pipeline = grid_search.best_estimator_\n",
    "\n",
    "    # Predictions\n",
    "    y_pred = best_pipeline.predict(X_test)\n",
    "\n",
    "    # Evaluation\n",
    "    accuracy, clf_report = eval_metrics(y_test, y_pred)\n",
    "    print(\"Best Parameters: \", grid_search.best_params_)\n",
    "    print(\"Accuracy: \", accuracy)\n",
    "    print(\"Classification Report:\\n\", clf_report)\n",
    "\n",
    "    # Log parameters and metrics\n",
    "    mlflow.log_params(grid_search.best_params_)\n",
    "    mlflow.log_metric(\"accuracy\", accuracy)\n",
    "\n",
    "    # Log the model\n",
    "    tracking_url_type_store = urlparse(mlflow.get_tracking_uri()).scheme\n",
    "\n",
    "    # Model registry does not work with file store\n",
    "    if tracking_url_type_store != \"file\":\n",
    "        # Register the model\n",
    "        mlflow.sklearn.log_model(best_pipeline, \"model\", registered_model_name=registered_model_name)\n",
    "    else:\n",
    "        mlflow.sklearn.log_model(best_pipeline, \"model\")"
   ]
  },
  {
   "cell_type": "markdown",
   "id": "483a597d-e45f-4613-937f-fa9c52f6dbe1",
   "metadata": {},
   "source": [
    "# Optional Part"
   ]
  },
  {
   "cell_type": "code",
   "execution_count": null,
   "id": "85ef6abf-6b32-4a21-b5d8-0e4f433a7b3c",
   "metadata": {},
   "outputs": [],
   "source": [
    "# Optional: Interact with the MLflow Model Registry\n",
    "name = registered_model_name\n",
    "client = MlflowClient()\n",
    "\n",
    "# Create a new registered model if it doesn't exist\n",
    "try:\n",
    "    client.create_registered_model(name)\n",
    "except Exception as e:\n",
    "    print(f\"Model {name} already exists. Skipping creation.\")\n"
   ]
  },
  {
   "cell_type": "code",
   "execution_count": null,
   "id": "0ac3eee0-3ab5-4e52-913f-00c6f52f5e9a",
   "metadata": {},
   "outputs": [
    {
     "name": "stdout",
     "output_type": "stream",
     "text": [
      "runs:/e6f60e9f9c4e413988a6a22610e2be79/sklearn-model\n"
     ]
    }
   ],
   "source": [
    "# Create a new model version\n",
    "model_uri = f\"runs:/{run.info.run_id}/model\"\n",
    "print(\"Model URI:\", model_uri)"
   ]
  },
  {
   "cell_type": "code",
   "execution_count": null,
   "id": "0303261b-d84c-471c-8149-6d5dc16d712a",
   "metadata": {},
   "outputs": [
    {
     "name": "stderr",
     "output_type": "stream",
     "text": [
      "2022/05/18 10:38:28 INFO mlflow.tracking._model_registry.client: Waiting up to 300 seconds for model version to finish creation.                     Model name: AdvertisingRFModel, version 6\n"
     ]
    },
    {
     "name": "stdout",
     "output_type": "stream",
     "text": [
      "model version 6 created\n",
      "6\n"
     ]
    }
   ],
   "source": [
    "mv = client.create_model_version(name, model_uri, run.info.run_id)\n",
    "print(\"Model version {} created\".format(mv.version))\n",
    "last_mv = mv.version\n",
    "print(\"Latest model version:\", last_mv)"
   ]
  },
  {
   "cell_type": "code",
   "execution_count": null,
   "id": "844bfcfe-69c0-47b8-856c-ed13c6038e24",
   "metadata": {},
   "outputs": [],
   "source": [
    "# Function to print model info\n",
    "def print_models_info(models):\n",
    "    for m in models:\n",
    "        print(\"name: {}\".format(m.name))\n",
    "        print(\"latest version: {}\".format(m.version))\n",
    "        print(\"run_id: {}\".format(m.run_id))\n",
    "        print(\"current_stage: {}\".format(m.current_stage))\n",
    "\n",
    "# Get the latest model versions\n",
    "models = client.get_latest_versions(name, stages=[\"None\"])\n",
    "print_models_info(models)\n",
    "\n",
    "# Print the latest model version\n",
    "print(f\"Latest version: {last_mv}\")"
   ]
  }
 ],
 "metadata": {
  "kernelspec": {
   "display_name": "churn_api_env",
   "language": "python",
   "name": "python3"
  },
  "language_info": {
   "codemirror_mode": {
    "name": "ipython",
    "version": 3
   },
   "file_extension": ".py",
   "mimetype": "text/x-python",
   "name": "python",
   "nbconvert_exporter": "python",
   "pygments_lexer": "ipython3",
   "version": "3.9.21"
  }
 },
 "nbformat": 4,
 "nbformat_minor": 5
}
